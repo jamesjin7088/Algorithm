{
 "cells": [
  {
   "cell_type": "code",
   "id": "initial_id",
   "metadata": {
    "collapsed": true,
    "ExecuteTime": {
     "end_time": "2025-04-21T09:42:56.331059Z",
     "start_time": "2025-04-21T09:42:56.328125Z"
    }
   },
   "source": [
    "# Stack 클래스 만들기\n",
    "class Node:\n",
    "    def __init__(self,data):\n",
    "        self.data = data\n",
    "        self.next = None\n",
    "\n",
    "class Stack:\n",
    "    def __init__(self):\n",
    "        self.top = None\n",
    "\n",
    "    def push(self, data):\n",
    "        if self.top is None:\n",
    "            self.top = Node(data)\n",
    "        else:\n",
    "            node = Node(data)\n",
    "            node.next = self.top\n",
    "            self.top = node\n",
    "\n",
    "    def pop(self):\n",
    "        if self.top is None:\n",
    "            return None\n",
    "        node = self.top\n",
    "        self.top = self.top.next\n",
    "        return node.data\n",
    "\n",
    "    def peek(self):\n",
    "        if self.top is None:\n",
    "            return None\n",
    "        return self.top.data\n",
    "\n",
    "    def is_empty(self):\n",
    "        return self.top is None\n",
    "\n"
   ],
   "outputs": [],
   "execution_count": 1
  },
  {
   "metadata": {
    "ExecuteTime": {
     "end_time": "2025-04-21T10:05:11.428145Z",
     "start_time": "2025-04-21T10:05:11.424224Z"
    }
   },
   "cell_type": "code",
   "source": [
    "if __name__ == \"__main__\":\n",
    "    s = Stack()\n",
    "\n",
    "    for i in range(3):\n",
    "        s.push(chr(ord(\"A\") + i))\n",
    "        print(f'Push data = {s.peek()}')\n",
    "    print()\n",
    "\n",
    "    while not s.is_empty():\n",
    "        print(f'Pop data = {s.pop()}')\n",
    "    print()\n",
    "\n",
    "    print(f'Peek data = {s.peek()}')\n"
   ],
   "id": "93e6ab26e6c00f7",
   "outputs": [
    {
     "name": "stdout",
     "output_type": "stream",
     "text": [
      "Push data = A\n",
      "Push data = B\n",
      "Push data = C\n",
      "\n",
      "Pop data = C\n",
      "Pop data = B\n",
      "Pop data = A\n",
      "\n",
      "Peek data = None\n"
     ]
    }
   ],
   "execution_count": 2
  },
  {
   "metadata": {
    "ExecuteTime": {
     "end_time": "2025-04-21T10:11:28.073231Z",
     "start_time": "2025-04-21T10:11:28.069546Z"
    }
   },
   "cell_type": "code",
   "source": [
    "# 단어를 역순으로 출력하기\n",
    "# 단어의 글자를 순서대로 스택에 넣는다.\n",
    "# 스택에 값이 있으면 반복한다.\n",
    "# 스택에서 글자를 꺼내서 출력한다.\n",
    "\n",
    "def reverse_word(word: str) -> str:\n",
    "    answer: str = \"\"\n",
    "    s = Stack()\n",
    "    for w in word:\n",
    "        s.push(w)\n",
    "    while not s.is_empty():\n",
    "        answer += s.pop()\n",
    "    return answer\n",
    "\n",
    "print(reverse_word(\"aircraft\"))"
   ],
   "id": "42e066529a1fae52",
   "outputs": [
    {
     "name": "stdout",
     "output_type": "stream",
     "text": [
      "tfarcria\n"
     ]
    }
   ],
   "execution_count": 5
  },
  {
   "metadata": {},
   "cell_type": "code",
   "outputs": [],
   "execution_count": null,
   "source": "# 괄호의 짝이 맞는지 확인하기\n",
   "id": "bb34466479516499"
  }
 ],
 "metadata": {
  "kernelspec": {
   "display_name": "Python 3",
   "language": "python",
   "name": "python3"
  },
  "language_info": {
   "codemirror_mode": {
    "name": "ipython",
    "version": 2
   },
   "file_extension": ".py",
   "mimetype": "text/x-python",
   "name": "python",
   "nbconvert_exporter": "python",
   "pygments_lexer": "ipython2",
   "version": "2.7.6"
  }
 },
 "nbformat": 4,
 "nbformat_minor": 5
}
