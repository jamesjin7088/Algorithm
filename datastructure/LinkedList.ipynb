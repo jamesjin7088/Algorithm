{
 "cells": [
  {
   "cell_type": "code",
   "id": "initial_id",
   "metadata": {
    "collapsed": true,
    "ExecuteTime": {
     "end_time": "2025-04-21T07:12:05.931125Z",
     "start_time": "2025-04-21T07:12:05.928840Z"
    }
   },
   "source": [
    "class Node():\n",
    "    def __init__(self, data):\n",
    "        self.data = data\n",
    "        self.next = None"
   ],
   "outputs": [],
   "execution_count": 2
  },
  {
   "metadata": {
    "ExecuteTime": {
     "end_time": "2025-04-21T07:12:07.060372Z",
     "start_time": "2025-04-21T07:12:07.058696Z"
    }
   },
   "cell_type": "code",
   "source": [
    "head = Node(1)\n",
    "head.next = Node(2)\n",
    "head.next.next = Node(3)\n"
   ],
   "id": "cd03b518498188c2",
   "outputs": [],
   "execution_count": 3
  },
  {
   "metadata": {
    "ExecuteTime": {
     "end_time": "2025-04-21T07:15:26.297909Z",
     "start_time": "2025-04-21T07:15:26.295606Z"
    }
   },
   "cell_type": "code",
   "source": [
    "node = head\n",
    "\n",
    "while node.next:\n",
    "    node = node.next\n",
    "node.next = Node(4)"
   ],
   "id": "cab68fcb49e76d5b",
   "outputs": [],
   "execution_count": 7
  },
  {
   "metadata": {
    "ExecuteTime": {
     "end_time": "2025-04-21T07:16:24.570955Z",
     "start_time": "2025-04-21T07:16:24.569109Z"
    }
   },
   "cell_type": "code",
   "source": [
    "# 연결 리스트의 처음에 새 노드를 추가하기\n",
    "node = Node(0)\n",
    "node.next = head\n",
    "head = node"
   ],
   "id": "478466576803cf2a",
   "outputs": [],
   "execution_count": 8
  },
  {
   "metadata": {
    "ExecuteTime": {
     "end_time": "2025-04-21T07:22:47.401858Z",
     "start_time": "2025-04-21T07:22:47.398835Z"
    }
   },
   "cell_type": "code",
   "source": [
    "# 연결 리스트 클래스 만들기\n",
    "# head가 None이면 생성한 노드를 head에 할당한다\n",
    "# head가 None이 아니면\n",
    "# 1. 노드를 생성한다.\n",
    "# 2. 노드의 next에 head를 할당한다.\n",
    "# 3. head를 새로 만든 노드에 할당한다.\n",
    "class LinkedList:\n",
    "    def __init__(self):\n",
    "        self.head = None\n",
    "        self.length = 0\n",
    "\n",
    "    def __len__(self):\n",
    "        return self.length\n",
    "\n",
    "    def appendleft(self,data):\n",
    "        if self.head is None:\n",
    "            self.head = Node(data)\n",
    "        else:\n",
    "            node = Node(data)\n",
    "            node.next = self.head\n",
    "            self.head = node\n",
    "        self.length += 1"
   ],
   "id": "344bd98c97214df3",
   "outputs": [],
   "execution_count": 9
  },
  {
   "metadata": {
    "ExecuteTime": {
     "end_time": "2025-04-21T07:33:03.741628Z",
     "start_time": "2025-04-21T07:33:03.738878Z"
    }
   },
   "cell_type": "code",
   "source": [
    "if __name__ == \"__main__\":\n",
    "    my_list = LinkedList()\n",
    "    print(f\"연결 리스트 생성. 연결 리스트의 길이 = {len(my_list)}\")\n",
    "    print()\n",
    "    for i in range(4):\n",
    "        my_list.appendleft(i)\n",
    "        print(f\"{i}를 추가. 연결 리스트의 길이 = {len(my_list)}\")"
   ],
   "id": "3dd7bb2545e2441a",
   "outputs": [
    {
     "name": "stdout",
     "output_type": "stream",
     "text": [
      "연결 리스트 생성. 연결 리스트의 길이 = 0\n",
      "\n",
      "0를 추가. 연결 리스트의 길이 = 1\n",
      "1를 추가. 연결 리스트의 길이 = 2\n",
      "2를 추가. 연결 리스트의 길이 = 3\n",
      "3를 추가. 연결 리스트의 길이 = 4\n"
     ]
    }
   ],
   "execution_count": 10
  },
  {
   "metadata": {
    "ExecuteTime": {
     "end_time": "2025-04-21T07:41:30.550429Z",
     "start_time": "2025-04-21T07:41:30.547274Z"
    }
   },
   "cell_type": "code",
   "source": [
    "# append 메서드 만들기\n",
    "# head가 None이면 생성한 노드를 head에 할당한다.\n",
    "# head가 None이 아니면\n",
    "# (1) 임시 노드를 만들어 마지막 노드까지 이동한다.\n",
    "# (2) 새 노드를 만든다.\n",
    "# (3) 임시 노드의 next에 새 노드를 할당한다.\n",
    "# 연결 리스트의 길이를 증가시킨다.\n",
    "class LinkedList:\n",
    "    def __init__(self):\n",
    "        self.head = None\n",
    "        self.length = 0\n",
    "\n",
    "    def __len__(self):\n",
    "        return self.length\n",
    "\n",
    "    def appendleft(self,data):\n",
    "        if self.head is None:\n",
    "            self.head = Node(data)\n",
    "        else:\n",
    "            node = Node(data)\n",
    "            node.next = self.head\n",
    "            self.head = node\n",
    "        self.length += 1\n",
    "\n",
    "    def append(self, data):\n",
    "        if self.head is None:\n",
    "            self.head = Node(data)\n",
    "        else:\n",
    "            node = self.head\n",
    "            while node.next is not None:\n",
    "                node = node.next\n",
    "            node.next = Node(data)\n",
    "        self.length += 1\n"
   ],
   "id": "228426a954f45c0a",
   "outputs": [],
   "execution_count": 11
  },
  {
   "metadata": {
    "ExecuteTime": {
     "end_time": "2025-04-21T07:41:34.605902Z",
     "start_time": "2025-04-21T07:41:34.603238Z"
    }
   },
   "cell_type": "code",
   "source": [
    "if __name__ == \"__main__\":\n",
    "    my_list = LinkedList()\n",
    "    print(f\"연결 리스트 생성.  연결 리스트의 길이 = {len(my_list)}\")\n",
    "    print()\n",
    "    for i in range(4):\n",
    "        my_list.append(i)\n",
    "        print(f\"{i}을(를) 추가.  연결 리스트의 길이 = {len(my_list)}\")"
   ],
   "id": "438d92358b0268e0",
   "outputs": [
    {
     "name": "stdout",
     "output_type": "stream",
     "text": [
      "연결 리스트 생성.  연결 리스트의 길이 = 0\n",
      "\n",
      "0을(를) 추가.  연결 리스트의 길이 = 1\n",
      "1을(를) 추가.  연결 리스트의 길이 = 2\n",
      "2을(를) 추가.  연결 리스트의 길이 = 3\n",
      "3을(를) 추가.  연결 리스트의 길이 = 4\n"
     ]
    }
   ],
   "execution_count": 12
  },
  {
   "metadata": {
    "ExecuteTime": {
     "end_time": "2025-04-21T07:46:27.212342Z",
     "start_time": "2025-04-21T07:46:27.208153Z"
    }
   },
   "cell_type": "code",
   "source": [
    "# 연결 리스트 상태 출력하기\n",
    "# 연결 리스트의 상태를 나타낼 문자열 변수를 만든다.\n",
    "# 임시 노드가 None이 아닐 동안 계속 이동하면서 아래 과정을 반복한다.\n",
    "# 현재 노드의 값을 문자열로 변환하여 문자열 변수에 더한다.\n",
    "# 임시 노드를 다음 노드로 옮긴다.\n",
    "# 문자열을 반환한다.\n",
    "class LinkedList:\n",
    "    def __init__(self):\n",
    "        self.head = None\n",
    "        self.length = 0\n",
    "\n",
    "    def __len__(self):\n",
    "        return self.length\n",
    "\n",
    "    def appendleft(self,data):\n",
    "        if self.head is None:\n",
    "            self.head = Node(data)\n",
    "        else:\n",
    "            node = Node(data)\n",
    "            node.next = self.head\n",
    "            self.head = node\n",
    "        self.length += 1\n",
    "\n",
    "    def append(self, data):\n",
    "        if self.head is None:\n",
    "            self.head = Node(data)\n",
    "        else:\n",
    "            node = self.head\n",
    "            while node.next is not None:\n",
    "                node = node.next\n",
    "            node.next = Node(data)\n",
    "        self.length += 1\n",
    "\n",
    "    def __str__(self):\n",
    "        if self.head is None:\n",
    "            return \"Linked list is empty!\"\n",
    "        res = \"Head\"\n",
    "        node = self.head\n",
    "        while node is not None:\n",
    "            res += \" -> \" + str(node.data)\n",
    "            node = node.next\n",
    "        return res"
   ],
   "id": "fd4f97f05d49b1b4",
   "outputs": [],
   "execution_count": 13
  },
  {
   "metadata": {
    "ExecuteTime": {
     "end_time": "2025-04-21T07:56:55.548776Z",
     "start_time": "2025-04-21T07:56:55.546326Z"
    }
   },
   "cell_type": "code",
   "source": [
    "if __name__ == \"__main__\":\n",
    "    my_list = LinkedList()\n",
    "    print(f\"연결 리스트 생성. 연결 리스트의 길이 = {len(my_list)}\")\n",
    "    print(my_list)\n",
    "    print()\n",
    "    for i in range(4):\n",
    "        if i % 2:\n",
    "            my_list.append(i)\n",
    "        else:\n",
    "            my_list.appendleft(i)\n",
    "        print(f\"{i}를 추가. 연결 리스트의 길이 = {len(my_list)}\")\n",
    "        print(my_list)\n",
    "        print()\n"
   ],
   "id": "fc1beaf830174146",
   "outputs": [
    {
     "name": "stdout",
     "output_type": "stream",
     "text": [
      "연결 리스트 생성. 연결 리스트의 길이 = 0\n",
      "Linked list is empty!\n",
      "\n",
      "0를 추가. 연결 리스트의 길이 = 1\n",
      "Head -> 0\n",
      "\n",
      "1를 추가. 연결 리스트의 길이 = 2\n",
      "Head -> 0 -> 1\n",
      "\n",
      "2를 추가. 연결 리스트의 길이 = 3\n",
      "Head -> 2 -> 0 -> 1\n",
      "\n",
      "3를 추가. 연결 리스트의 길이 = 4\n",
      "Head -> 2 -> 0 -> 1 -> 3\n",
      "\n"
     ]
    }
   ],
   "execution_count": 18
  },
  {
   "metadata": {
    "ExecuteTime": {
     "end_time": "2025-04-21T08:00:30.447417Z",
     "start_time": "2025-04-21T08:00:30.440689Z"
    }
   },
   "cell_type": "code",
   "source": [
    "# 값을 검색하기\n",
    "# head가 None이면 False를 반환한다.\n",
    "# 임시 노드가 None이 아닐 동안 계속 이동하면서 아래 과정을 반복한다.\n",
    "# 현재 노드의 값이 찾는 값이면 True를 반환한다.\n",
    "# 임시 노드를 다음 노드로 옮긴다.\n",
    "# False를 반환한다.\n",
    "\n",
    "class LinkedList:\n",
    "    def __init__(self):\n",
    "        self.head = None\n",
    "        self.length = 0\n",
    "\n",
    "    def __len__(self):\n",
    "        return self.length\n",
    "\n",
    "    def appendleft(self,data):\n",
    "        if self.head is None:\n",
    "            self.head = Node(data)\n",
    "        else:\n",
    "            node = Node(data)\n",
    "            node.next = self.head\n",
    "            self.head = node\n",
    "        self.length += 1\n",
    "\n",
    "    def append(self, data):\n",
    "        if self.head is None:\n",
    "            self.head = Node(data)\n",
    "        else:\n",
    "            node = self.head\n",
    "            while node.next is not None:\n",
    "                node = node.next\n",
    "            node.next = Node(data)\n",
    "        self.length += 1\n",
    "\n",
    "    def __str__(self):\n",
    "        if self.head is None:\n",
    "            return \"Linked list is empty!\"\n",
    "        res = \"Head\"\n",
    "        node = self.head\n",
    "        while node is not None:\n",
    "            res += \" -> \" + str(node.data)\n",
    "            node = node.next\n",
    "        return res\n",
    "\n",
    "    def __contains__(self, target):\n",
    "        if self.head is None:\n",
    "            return False\n",
    "        node = self.head\n",
    "        while node is not None:\n",
    "            if node.data == target:\n",
    "                return True\n",
    "            node = node.next\n",
    "        return False\n",
    "\n"
   ],
   "id": "92d5812a8e90579d",
   "outputs": [],
   "execution_count": 19
  },
  {
   "metadata": {
    "ExecuteTime": {
     "end_time": "2025-04-21T08:03:00.134586Z",
     "start_time": "2025-04-21T08:03:00.131851Z"
    }
   },
   "cell_type": "code",
   "source": [
    "if __name__ == \"__main__\":\n",
    "    import random\n",
    "    data = list(range(10, 20))\n",
    "    random.shuffle(data)\n",
    "    my_list = LinkedList()\n",
    "    for i in data:\n",
    "        my_list.append(i)\n",
    "    print(f'연결 리스트의 상태\\n{my_list}')\n",
    "    print()\n",
    "    for _ in range(4):\n",
    "        i = random.randint(5, 25)\n",
    "        if i in my_list:\n",
    "            print(f'{i}는 연결 리스트에 있습니다.')\n",
    "        else:\n",
    "            print(f'{i}는 연결 리스트에 없습니다.')"
   ],
   "id": "5aa6d406f531b09",
   "outputs": [
    {
     "name": "stdout",
     "output_type": "stream",
     "text": [
      "연결 리스트의 상태\n",
      "Head -> 13 -> 17 -> 14 -> 10 -> 11 -> 12 -> 18 -> 15 -> 19 -> 16\n",
      "\n",
      "13는 연결 리스트에 있습니다.\n",
      "25는 연결 리스트에 없습니다.\n",
      "19는 연결 리스트에 있습니다.\n",
      "6는 연결 리스트에 없습니다.\n"
     ]
    }
   ],
   "execution_count": 21
  },
  {
   "metadata": {
    "ExecuteTime": {
     "end_time": "2025-04-21T08:08:43.543799Z",
     "start_time": "2025-04-21T08:08:43.539234Z"
    }
   },
   "cell_type": "code",
   "source": [
    " # popleft 메서드 만들기\n",
    "# head가 None이면 None을 반환한다.\n",
    "# (1) 임시 노드를 만들고, head를 할당한다.\n",
    "# (2) head를 head의 다음 노드로 이동시킨다. 노드가 하나만 있을 때, 다음 노드는 None이므로 첫 노드를 꺼내면서 head를 다음 노드로 옮기면 head는 자연스럽게 None을 가리킨다.\n",
    "# 연결 리스트의 길이를 하나 줄인다.\n",
    "# 임시 노드에 할당한 값을 반환한다.\n",
    "\n",
    "# 값을 검색하기\n",
    "# head가 None이면 False를 반환한다.\n",
    "# 임시 노드가 None이 아닐 동안 계속 이동하면서 아래 과정을 반복한다.\n",
    "# 현재 노드의 값이 찾는 값이면 True를 반환한다.\n",
    "# 임시 노드를 다음 노드로 옮긴다.\n",
    "# False를 반환한다.\n",
    "\n",
    "class LinkedList:\n",
    "    def __init__(self):\n",
    "        self.head = None\n",
    "        self.length = 0\n",
    "\n",
    "    def __len__(self):\n",
    "        return self.length\n",
    "\n",
    "    def appendleft(self,data):\n",
    "        if self.head is None:\n",
    "            self.head = Node(data)\n",
    "        else:\n",
    "            node = Node(data)\n",
    "            node.next = self.head\n",
    "            self.head = node\n",
    "        self.length += 1\n",
    "\n",
    "    def append(self, data):\n",
    "        if self.head is None:\n",
    "            self.head = Node(data)\n",
    "        else:\n",
    "            node = self.head\n",
    "            while node.next is not None:\n",
    "                node = node.next\n",
    "            node.next = Node(data)\n",
    "        self.length += 1\n",
    "\n",
    "    def __str__(self):\n",
    "        if self.head is None:\n",
    "            return \"Linked list is empty!\"\n",
    "        res = \"Head\"\n",
    "        node = self.head\n",
    "        while node is not None:\n",
    "            res += \" -> \" + str(node.data)\n",
    "            node = node.next\n",
    "        return res\n",
    "\n",
    "    def __contains__(self, target):\n",
    "        if self.head is None:\n",
    "            return False\n",
    "        node = self.head\n",
    "        while node is not None:\n",
    "            if node.data == target:\n",
    "                return True\n",
    "            node = node.next\n",
    "        return False\n",
    "\n",
    "    def popleft(self):\n",
    "        if self.head is None:\n",
    "            return None\n",
    "        node = self.head\n",
    "        self.head = self.head.next\n",
    "        self.length -= 1\n",
    "        return node.data\n",
    "\n",
    "\n"
   ],
   "id": "63718bd9e5d3c56b",
   "outputs": [],
   "execution_count": 22
  },
  {
   "metadata": {
    "ExecuteTime": {
     "end_time": "2025-04-21T08:12:44.064421Z",
     "start_time": "2025-04-21T08:12:44.062283Z"
    }
   },
   "cell_type": "code",
   "source": [
    "if __name__ == \"__main__\":\n",
    "    import random\n",
    "    data = list(range(10, 15))\n",
    "    random.shuffle(data)\n",
    "    my_list = LinkedList()\n",
    "    for i in data:\n",
    "        my_list.append(i)\n",
    "    print(f'연결 리스트의 상태\\n{my_list}')\n",
    "    print()\n",
    "    for _ in range(len(my_list)):\n",
    "        print(f\"{my_list.popleft()}를 꺼낸 후: 길이 = {len(my_list)}, {my_list}\")\n",
    "    print(f\"연결 리스트가 비었을 때 꺼낸 값은 {my_list.popleft()}\")\n"
   ],
   "id": "762a45e2dc3dd298",
   "outputs": [
    {
     "name": "stdout",
     "output_type": "stream",
     "text": [
      "연결 리스트의 상태\n",
      "Head -> 13 -> 14 -> 10 -> 12 -> 11\n",
      "\n",
      "13를 꺼낸 후: 길이 = 4, Head -> 14 -> 10 -> 12 -> 11\n",
      "14를 꺼낸 후: 길이 = 3, Head -> 10 -> 12 -> 11\n",
      "10를 꺼낸 후: 길이 = 2, Head -> 12 -> 11\n",
      "12를 꺼낸 후: 길이 = 1, Head -> 11\n",
      "11를 꺼낸 후: 길이 = 0, Linked list is empty!\n",
      "연결 리스트가 비었을 때 꺼낸 값은 None\n"
     ]
    }
   ],
   "execution_count": 24
  },
  {
   "metadata": {
    "ExecuteTime": {
     "end_time": "2025-04-21T08:34:46.540254Z",
     "start_time": "2025-04-21T08:34:46.536155Z"
    }
   },
   "cell_type": "code",
   "source": [
    "# pop 메서드 만들기\n",
    "# head가 None이면 None을 반환한다.\n",
    "# 임시 노드 두 개(node, prev)를 만든다.\n",
    "# (1) node에 head를 할당한 후 마지막 노드까지 이동한다.\n",
    "# (1) 이때 prev는 node의 이전 노드를 가리키도록 이동한다.\n",
    "# (2) prev의 next가 None을 가리키도록 한다.\n",
    "# 연결 리스트의 길이를 하나 줄인다.\n",
    "# node의 값을 반환한다.\n",
    "\n",
    "class LinkedList:\n",
    "    def __init__(self):\n",
    "        self.head = None\n",
    "        self.length = 0\n",
    "\n",
    "    def __len__(self):\n",
    "        return self.length\n",
    "\n",
    "    def appendleft(self,data):\n",
    "        if self.head is None:\n",
    "            self.head = Node(data)\n",
    "        else:\n",
    "            node = Node(data)\n",
    "            node.next = self.head\n",
    "            self.head = node\n",
    "        self.length += 1\n",
    "\n",
    "    def append(self, data):\n",
    "        if self.head is None:\n",
    "            self.head = Node(data)\n",
    "        else:\n",
    "            node = self.head\n",
    "            while node.next is not None:\n",
    "                node = node.next\n",
    "            node.next = Node(data)\n",
    "        self.length += 1\n",
    "\n",
    "    def __str__(self):\n",
    "        if self.head is None:\n",
    "            return \"Linked list is empty!\"\n",
    "        res = \"Head\"\n",
    "        node = self.head\n",
    "        while node is not None:\n",
    "            res += \" -> \" + str(node.data)\n",
    "            node = node.next\n",
    "        return res\n",
    "\n",
    "    def __contains__(self, target):\n",
    "        if self.head is None:\n",
    "            return False\n",
    "        node = self.head\n",
    "        while node is not None:\n",
    "            if node.data == target:\n",
    "                return True\n",
    "            node = node.next\n",
    "        return False\n",
    "\n",
    "    def popleft(self):\n",
    "        if self.head is None:\n",
    "            return None\n",
    "        node = self.head\n",
    "        self.head = self.head.next\n",
    "        self.length -= 1\n",
    "        return node.data\n",
    "\n",
    "    def pop(self):\n",
    "        if self.head is None:\n",
    "            return None\n",
    "        node = self.head\n",
    "        while node.next is not None:\n",
    "            prev = node\n",
    "            node = node.next\n",
    "        if node == self.head:\n",
    "            self.head = None\n",
    "        else:\n",
    "            prev.next = None\n",
    "        self.length -= 1\n",
    "        return node.data\n",
    "\n"
   ],
   "id": "8658c0a3e661bfb1",
   "outputs": [],
   "execution_count": 33
  },
  {
   "metadata": {
    "ExecuteTime": {
     "end_time": "2025-04-21T08:34:48.486401Z",
     "start_time": "2025-04-21T08:34:48.483832Z"
    }
   },
   "cell_type": "code",
   "source": [
    "if __name__ == \"__main__\":\n",
    "    import random\n",
    "    data = list(range(10, 15))\n",
    "    random.shuffle(data)\n",
    "    my_list = LinkedList()\n",
    "    for i in data:\n",
    "        my_list.append(i)\n",
    "    print(f\"연결 리스트의 상태\\n{my_list}\")\n",
    "    print()\n",
    "    for _ in range(len(my_list)):\n",
    "        print(f\"{my_list.pop()}를(을) 꺼낸 후: 길이 = {len(my_list)}, {my_list}\")\n",
    "    print(f\"연결 리스트가 비었을 때 꺼낸 값은 {my_list.pop()}\")"
   ],
   "id": "c18bf6370b641e18",
   "outputs": [
    {
     "name": "stdout",
     "output_type": "stream",
     "text": [
      "연결 리스트의 상태\n",
      "Head -> 10 -> 12 -> 13 -> 14 -> 11\n",
      "\n",
      "11를(을) 꺼낸 후: 길이 = 4, Head -> 10 -> 12 -> 13 -> 14\n",
      "14를(을) 꺼낸 후: 길이 = 3, Head -> 10 -> 12 -> 13\n",
      "13를(을) 꺼낸 후: 길이 = 2, Head -> 10 -> 12\n",
      "12를(을) 꺼낸 후: 길이 = 1, Head -> 10\n",
      "10를(을) 꺼낸 후: 길이 = 0, Linked list is empty!\n",
      "연결 리스트가 비었을 때 꺼낸 값은 None\n"
     ]
    }
   ],
   "execution_count": 34
  },
  {
   "metadata": {
    "ExecuteTime": {
     "end_time": "2025-04-21T09:12:03.633827Z",
     "start_time": "2025-04-21T09:12:03.628838Z"
    }
   },
   "cell_type": "code",
   "source": [
    "# remove 메서드 만들기\n",
    "# 임시 노드 두 개(node, prev)를 만든다.\n",
    "# (1) node는 삭제할 원소를 찾아서 이동하고, prev는 그 뒤를 따라간다.\n",
    "# (2) 삭제할 원소를 찾았으면, prev의 next가 node의 다음 노드를 가리키도록 한다. 그리고 True를 반환한다.\n",
    "# 연결 리스트가 비었거나, 삭제할 노드가 없을 때 False를 반환한다.\n",
    "# 삭제할 원소가 head일 때와 head가 아닐 때를 구분하여 연결 리스트의 관계를 수정한다.\n",
    "\n",
    "class LinkedList:\n",
    "    def __init__(self):\n",
    "        self.head = None\n",
    "        self.length = 0\n",
    "\n",
    "    def __len__(self):\n",
    "        return self.length\n",
    "\n",
    "    def appendleft(self,data):\n",
    "        if self.head is None:\n",
    "            self.head = Node(data)\n",
    "        else:\n",
    "            node = Node(data)\n",
    "            node.next = self.head\n",
    "            self.head = node\n",
    "        self.length += 1\n",
    "\n",
    "    def append(self, data):\n",
    "        if self.head is None:\n",
    "            self.head = Node(data)\n",
    "        else:\n",
    "            node = self.head\n",
    "            while node.next is not None:\n",
    "                node = node.next\n",
    "            node.next = Node(data)\n",
    "        self.length += 1\n",
    "\n",
    "    def __str__(self):\n",
    "        if self.head is None:\n",
    "            return \"Linked list is empty!\"\n",
    "        res = \"Head\"\n",
    "        node = self.head\n",
    "        while node is not None:\n",
    "            res += \" -> \" + str(node.data)\n",
    "            node = node.next\n",
    "        return res\n",
    "\n",
    "    def __contains__(self, target):\n",
    "        if self.head is None:\n",
    "            return False\n",
    "        node = self.head\n",
    "        while node is not None:\n",
    "            if node.data == target:\n",
    "                return True\n",
    "            node = node.next\n",
    "        return False\n",
    "\n",
    "    def popleft(self):\n",
    "        if self.head is None:\n",
    "            return None\n",
    "        node = self.head\n",
    "        self.head = self.head.next\n",
    "        self.length -= 1\n",
    "        return node.data\n",
    "\n",
    "    def pop(self):\n",
    "        if self.head is None:\n",
    "            return None\n",
    "        node = self.head\n",
    "        while node.next is not None:\n",
    "            prev = node\n",
    "            node = node.next\n",
    "        if node == self.head:\n",
    "            self.head = None\n",
    "        else:\n",
    "            prev.next = None\n",
    "        self.length -= 1\n",
    "        return node.data\n",
    "\n",
    "    def remove(self, target):\n",
    "        node = self.head\n",
    "        while node is not None and node.data != target:\n",
    "            prev = node\n",
    "            node = node.next\n",
    "        if node is None:\n",
    "            return False\n",
    "        if node == self.head:\n",
    "            self.head = self.head.next\n",
    "        else:\n",
    "            prev.next = node.next\n",
    "        self.length -= 1\n",
    "        return True\n"
   ],
   "id": "ec017d4f87c34c5a",
   "outputs": [],
   "execution_count": 37
  },
  {
   "metadata": {
    "ExecuteTime": {
     "end_time": "2025-04-21T09:12:04.901829Z",
     "start_time": "2025-04-21T09:12:04.898915Z"
    }
   },
   "cell_type": "code",
   "source": [
    "if __name__ == \"__main__\":\n",
    "    import random\n",
    "    data = list(range(10, 15))\n",
    "    random.shuffle(data)\n",
    "    my_list = LinkedList()\n",
    "    for i in data:\n",
    "        my_list.append(i)\n",
    "    print(f'연결 리스트의 상태 \\n연결 리스트의 길이 = {len(my_list)}', {my_list})\n",
    "    print()\n",
    "    for _ in range(10):\n",
    "        i = random.randint(10, 15)\n",
    "        if my_list.remove(i):\n",
    "            print(f'{i}를 연결 리스트에서 삭제했습니다.')\n",
    "            print(f'연결 리스트의 길이 = {len(my_list)}, {my_list}\\n')\n",
    "        else:\n",
    "            print(f'{i}는 연결 리스트에 없습니다.\\n')"
   ],
   "id": "3d883309902759e7",
   "outputs": [
    {
     "name": "stdout",
     "output_type": "stream",
     "text": [
      "연결 리스트의 상태 \n",
      "연결 리스트의 길이 = 5 {<__main__.LinkedList object at 0x112c9ee40>}\n",
      "\n",
      "15는 연결 리스트에 없습니다.\n",
      "\n",
      "14를 연결 리스트에서 삭제했습니다.\n",
      "연결 리스트의 길이 = 4, Head -> 11 -> 10 -> 13 -> 12\n",
      "\n",
      "13를 연결 리스트에서 삭제했습니다.\n",
      "연결 리스트의 길이 = 3, Head -> 11 -> 10 -> 12\n",
      "\n",
      "12를 연결 리스트에서 삭제했습니다.\n",
      "연결 리스트의 길이 = 2, Head -> 11 -> 10\n",
      "\n",
      "14는 연결 리스트에 없습니다.\n",
      "\n",
      "10를 연결 리스트에서 삭제했습니다.\n",
      "연결 리스트의 길이 = 1, Head -> 11\n",
      "\n",
      "11를 연결 리스트에서 삭제했습니다.\n",
      "연결 리스트의 길이 = 0, Linked list is empty!\n",
      "\n",
      "12는 연결 리스트에 없습니다.\n",
      "\n",
      "14는 연결 리스트에 없습니다.\n",
      "\n",
      "13는 연결 리스트에 없습니다.\n",
      "\n"
     ]
    }
   ],
   "execution_count": 38
  },
  {
   "metadata": {},
   "cell_type": "code",
   "outputs": [],
   "execution_count": null,
   "source": [
    "# insert 메서드 만들기\n",
    "# 인덱스가 0보다 작게 주어지면, 인덱스 0에 새 노드를 삽입한다.\n",
    "# 인덱스가 연결 리스트의 길이보다 크면, 연결 리스트의 끝에 새 노드를 삽입한다.\n",
    "# 위의 두 사례는 appendleft와 append 메서드를 그대로 사용하면 되겠다.\n",
    "# 나머지는 위의 그림처럼 처리한다.\n",
    "# (1) 임시 노드를 만들고, 삽입할 위치 전까지 이동한다.\n",
    "# (2) 삽입할 노드를 만든다.\n",
    "# (3) 새 노드의 next가 임시 노드의 다음 노드를 가리키도록 한다.\n",
    "# (4) 임시 노드의 next가 새 노드를 가리키도록 한다.\n",
    "\n",
    "class LinkedList:\n",
    "    def __init__(self):\n",
    "        self.head = None\n",
    "        self.length = 0\n",
    "\n",
    "    def __len__(self):\n",
    "        return self.length\n",
    "\n",
    "    def appendleft(self,data):\n",
    "        if self.head is None:\n",
    "            self.head = Node(data)\n",
    "        else:\n",
    "            node = Node(data)\n",
    "            node.next = self.head\n",
    "            self.head = node\n",
    "        self.length += 1\n",
    "\n",
    "    def append(self, data):\n",
    "        if self.head is None:\n",
    "            self.head = Node(data)\n",
    "        else:\n",
    "            node = self.head\n",
    "            while node.next is not None:\n",
    "                node = node.next\n",
    "            node.next = Node(data)\n",
    "        self.length += 1\n",
    "\n",
    "    def __str__(self):\n",
    "        if self.head is None:\n",
    "            return \"Linked list is empty!\"\n",
    "        res = \"Head\"\n",
    "        node = self.head\n",
    "        while node is not None:\n",
    "            res += \" -> \" + str(node.data)\n",
    "            node = node.next\n",
    "        return res\n",
    "\n",
    "    def __contains__(self, target):\n",
    "        if self.head is None:\n",
    "            return False\n",
    "        node = self.head\n",
    "        while node is not None:\n",
    "            if node.data == target:\n",
    "                return True\n",
    "            node = node.next\n",
    "        return False\n",
    "\n",
    "    def popleft(self):\n",
    "        if self.head is None:\n",
    "            return None\n",
    "        node = self.head\n",
    "        self.head = self.head.next\n",
    "        self.length -= 1\n",
    "        return node.data\n",
    "\n",
    "    def pop(self):\n",
    "        if self.head is None:\n",
    "            return None\n",
    "        node = self.head\n",
    "        while node.next is not None:\n",
    "            prev = node\n",
    "            node = node.next\n",
    "        if node == self.head:\n",
    "            self.head = None\n",
    "        else:\n",
    "            prev.next = None\n",
    "        self.length -= 1\n",
    "        return node.data\n",
    "\n",
    "    def remove(self, target):\n",
    "        node = self.head\n",
    "        while node is not None and node.data != target:\n",
    "            prev = node\n",
    "            node = node.next\n",
    "        if node is None:\n",
    "            return False\n",
    "        if node == self.head:\n",
    "            self.head = self.head.next\n",
    "        else:\n",
    "            prev.next = node.next\n",
    "        self.length -= 1\n",
    "        return True\n",
    "\n",
    "    def insert(self, i, data):\n",
    "        if i <= 0:\n",
    "            self.appendleft(data)\n",
    "        elif i >= self.length:\n",
    "            self.append(data)\n",
    "        else:\n",
    "            node = self.head\n",
    "            for _ in range(i-1):\n",
    "                node = node.next\n",
    "            new_node = Node(data)\n",
    "            new_node.next = node.next\n",
    "            node.next = new_node\n",
    "            self.length += 1\n",
    "\n"
   ],
   "id": "af2b637d2c439b87"
  },
  {
   "metadata": {},
   "cell_type": "code",
   "outputs": [],
   "execution_count": null,
   "source": [
    "if __name__ == \"__main__\":\n",
    "    import random\n",
    "    my_list = LinkedList()\n",
    "    for i in range(5):\n",
    "        my_list.append(i)\n",
    "    print(f'연결 리스트의 상태\\n 연결 리스트의 길이 = {}')"
   ],
   "id": "7cfe018ab2da8887"
  }
 ],
 "metadata": {
  "kernelspec": {
   "display_name": "Python 3",
   "language": "python",
   "name": "python3"
  },
  "language_info": {
   "codemirror_mode": {
    "name": "ipython",
    "version": 2
   },
   "file_extension": ".py",
   "mimetype": "text/x-python",
   "name": "python",
   "nbconvert_exporter": "python",
   "pygments_lexer": "ipython2",
   "version": "2.7.6"
  }
 },
 "nbformat": 4,
 "nbformat_minor": 5
}
