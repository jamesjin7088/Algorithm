{
 "cells": [
  {
   "cell_type": "code",
   "execution_count": null,
   "id": "initial_id",
   "metadata": {
    "collapsed": true
   },
   "outputs": [],
   "source": [
    "class Node:\n",
    "    def __init__(self, data):\n",
    "        self.data = data\n",
    "        self.next = None\n",
    "\n",
    "class Queue:\n",
    "    def __init__(self):\n",
    "        self.front = None\n",
    "        self.rear = None\n",
    "\n",
    "    def enqueue(self, data):\n",
    "        if self.front is None:\n",
    "            self.front = self.rear = Node(data)\n",
    "        else:\n",
    "            node = Node(data)\n",
    "            self.rear.next = node\n",
    "            self.rear = node\n",
    "\n",
    "    def dequeue(self):\n",
    "        if self.front is None:\n",
    "            return None\n",
    "        node = self.front\n",
    "        if self.front == self.rear:\n",
    "            self.front = self.front.next\n",
    "        return node.data\n",
    "\n",
    "    def is_empty(self):\n",
    "        return self.front is None\n"
   ]
  },
  {
   "metadata": {
    "ExecuteTime": {
     "end_time": "2025-04-21T13:03:22.537184Z",
     "start_time": "2025-04-21T13:03:22.533849Z"
    }
   },
   "cell_type": "code",
   "source": [
    "class CircularQueue:\n",
    "    def __init__(self, size):\n",
    "        self.size = size\n",
    "        self.queue = [None] * size\n",
    "        self.front = self.rear = 0\n",
    "\n",
    "    def enqueue(self, item):\n",
    "        if self.is_full():\n",
    "            print(\"Queue is full\")\n",
    "            return False\n",
    "\n",
    "        self.rear = (self.rear + 1) % self.size\n",
    "        self.queue[self.rear] = item\n",
    "        return True\n",
    "\n",
    "    def dequeue(self):\n",
    "        if self.is_empty():\n",
    "            print(\"Queue is empty\")\n",
    "            return None\n",
    "\n",
    "        self.front = (self.front + 1) % self.size\n",
    "        item = self.queue[self.front]\n",
    "        self.queue[self.front] = None\n",
    "        return item\n",
    "\n",
    "    def is_empty(self):\n",
    "        return self.front == self.rear\n",
    "\n",
    "    def is_full(self):\n",
    "        return (self.rear + 1) % self.size == self.front\n",
    "\n",
    "    def peek(self):\n",
    "        if self.is_empty():\n",
    "            return None\n",
    "        return self.queue[(self.front + 1) % self.size]\n",
    "\n",
    "    def queue_len(self):\n",
    "        if self.rear >= self.front:\n",
    "            return self.rear - self.front\n",
    "        else:\n",
    "            return self.size - (self.front - self.rear)"
   ],
   "id": "5deb6f62587532e1",
   "outputs": [],
   "execution_count": 1
  },
  {
   "metadata": {
    "ExecuteTime": {
     "end_time": "2025-04-21T13:05:53.201245Z",
     "start_time": "2025-04-21T13:05:53.198468Z"
    }
   },
   "cell_type": "code",
   "source": [
    "c = CircularQueue(7)\n",
    "for i in range(7):\n",
    "    c.enqueue(i)\n",
    "\n",
    "for"
   ],
   "id": "60f20bb7ff3a6cf1",
   "outputs": [
    {
     "name": "stdout",
     "output_type": "stream",
     "text": [
      "Queue is full\n",
      "Queue is empty\n"
     ]
    }
   ],
   "execution_count": 8
  }
 ],
 "metadata": {
  "kernelspec": {
   "display_name": "Python 3",
   "language": "python",
   "name": "python3"
  },
  "language_info": {
   "codemirror_mode": {
    "name": "ipython",
    "version": 2
   },
   "file_extension": ".py",
   "mimetype": "text/x-python",
   "name": "python",
   "nbconvert_exporter": "python",
   "pygments_lexer": "ipython2",
   "version": "2.7.6"
  }
 },
 "nbformat": 4,
 "nbformat_minor": 5
}
